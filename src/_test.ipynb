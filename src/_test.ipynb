{
 "cells": [
  {
   "cell_type": "code",
   "execution_count": 1,
   "metadata": {},
   "outputs": [
    {
     "name": "stderr",
     "output_type": "stream",
     "text": [
      "/home/hina/anaconda3/envs/alexV2/lib/python3.8/site-packages/sklearn/utils/deprecation.py:143: FutureWarning: The sklearn.preprocessing.data module is  deprecated in version 0.22 and will be removed in version 0.24. The corresponding classes / functions should instead be imported from sklearn.preprocessing. Anything that cannot be imported from sklearn.preprocessing is now part of the private API.\n",
      "  warnings.warn(message, FutureWarning)\n"
     ]
    }
   ],
   "source": [
    "import quandl\n",
    "from sklearn.preprocessing.data import StandardScaler\n",
    "import numpy as np\n",
    "import tensorflow as tf\n",
    "from tensorflow.keras.layers import Dense, LSTM, BatchNormalization, Dropout\n",
    "from tensorflow.keras.callbacks import ModelCheckpoint, TensorBoard\n",
    "from tensorflow.keras.optimizers import Adam\n",
    "from tensorflow.keras.models import Sequential\n",
    "\n",
    "quandl.ApiConfig.api_key = 'MdTYhiXQR_LnUHzq-qma'\n",
    "\n",
    "# State the Real Life Model\n",
    "companies = ['WIKI/AAPL', 'WIKI/JNJ', 'WIKI/PG', 'WIKI/JPM', 'WIKI/KO', 'WIKI/XOM', 'WIKI/MCD']  # The companies\n",
    "obj = ['Close']  # The Data AI will get to see\n",
    "prev_days = 16  # How many days back the AI get to see\n",
    "\n",
    "fields = []\n",
    "for company in companies:\n",
    "    for o in obj:\n",
    "        fields.append(company + ' - ' + o)\n",
    "\n",
    "x = quandl.get(companies)[fields]\n",
    "x.dropna(inplace=True)\n",
    "\n",
    "# Percent Change Data\n",
    "chg_x = x.pct_change()\n",
    "chg_x.dropna(inplace=True)\n",
    "\n",
    "# norm object Normalizes the data\n",
    "# 'data' and 'norm' objects contains all information about the original data\n",
    "#norm = StandardScaler()\n",
    "#norm.fit(chg_x)\n",
    "#data = norm.transform(chg_x)\n",
    "data = chg_x.to_numpy()\n",
    "\n",
    "x_all = []\n",
    "y_all = []\n",
    "\n",
    "# appending 0.0 at the end to represent holding the money will result in 0.0 percent change\n",
    "for i in range(len(data) - prev_days - 1):\n",
    "    x_all.append(data[i:i + prev_days])\n",
    "    y_all.append(np.append(data[prev_days + i], 0.0))\n",
    "\n",
    "x_all = np.array(x_all)\n",
    "y_all = np.array(y_all)\n",
    "x_train = x_all[:7500]\n",
    "y_train = y_all[:7500]\n",
    "x_test = x_all[7500:]\n",
    "y_test = y_all[7500:]"
   ]
  },
  {
   "cell_type": "code",
   "execution_count": 2,
   "metadata": {},
   "outputs": [],
   "source": [
    "def neg_profit(y_true, y_pred):\n",
    "    multiplier = tf.constant(np.append(norm.scale_, 0.0), dtype=tf.float32)\n",
    "    adder = tf.constant(np.append(norm.mean_, 0.0), dtype=tf.float32)\n",
    "    return tf.tensordot(tf.add(tf.multiply(y_true, multiplier), adder), tf.cast(y_pred, tf.float32), 0) * -100\n",
    "\n",
    "def neg_prof(y_true, y_pred):\n",
    "    return tf.tensordot(y_true, y_pred, 0) * -100"
   ]
  },
  {
   "cell_type": "code",
   "execution_count": 6,
   "metadata": {},
   "outputs": [
    {
     "name": "stdout",
     "output_type": "stream",
     "text": [
      "Epoch 1/5\n",
      "8/8 [==============================] - 1s 105ms/step - loss: -0.0042 - val_loss: -0.0027\n",
      "Epoch 2/5\n",
      "8/8 [==============================] - 0s 39ms/step - loss: -0.0042 - val_loss: -0.0027\n",
      "Epoch 3/5\n",
      "8/8 [==============================] - 0s 39ms/step - loss: -0.0042 - val_loss: -0.0027\n",
      "Epoch 4/5\n",
      "8/8 [==============================] - 0s 39ms/step - loss: -0.0042 - val_loss: -0.0027\n",
      "Epoch 5/5\n",
      "8/8 [==============================] - 0s 39ms/step - loss: -0.0042 - val_loss: -0.0027\n"
     ]
    },
    {
     "data": {
      "text/plain": [
       "<tensorflow.python.keras.callbacks.History at 0x7f2d89a526d0>"
      ]
     },
     "execution_count": 6,
     "metadata": {},
     "output_type": "execute_result"
    }
   ],
   "source": [
    "model = Sequential()\n",
    "model.add(LSTM(128, return_sequences=True))\n",
    "model.add(Dropout(0.4))\n",
    "model.add(BatchNormalization())\n",
    "\n",
    "model.add(LSTM(128))\n",
    "model.add(Dropout(0.4))\n",
    "model.add(BatchNormalization())\n",
    "\n",
    "model.add(Dense(64, activation='relu'))\n",
    "model.add(Dropout(0.2))\n",
    "model.add(BatchNormalization())\n",
    "\n",
    "model.add(Dense(8, activation='softmax'))\n",
    "\n",
    "model.compile(optimizer=tf.keras.optimizers.SGD(lr=0.000001), loss=neg_prof)\n",
    "model.fit(x_train, y_train, batch_size=1024, epochs=5, validation_data=(x_test, y_test))"
   ]
  },
  {
   "cell_type": "code",
   "execution_count": null,
   "metadata": {},
   "outputs": [],
   "source": [
    "z = model.predict(x_test)"
   ]
  },
  {
   "cell_type": "code",
   "execution_count": null,
   "metadata": {},
   "outputs": [],
   "source": []
  },
  {
   "cell_type": "code",
   "execution_count": null,
   "metadata": {},
   "outputs": [],
   "source": [
    "test_changes = norm.inverse_transform(y_test[:, 0:7])"
   ]
  },
  {
   "cell_type": "code",
   "execution_count": null,
   "metadata": {},
   "outputs": [],
   "source": [
    "z = z[:, 0:7]"
   ]
  },
  {
   "cell_type": "code",
   "execution_count": null,
   "metadata": {},
   "outputs": [],
   "source": [
    "z.shape"
   ]
  },
  {
   "cell_type": "code",
   "execution_count": null,
   "metadata": {},
   "outputs": [],
   "source": [
    "test_changes.shape"
   ]
  },
  {
   "cell_type": "code",
   "execution_count": null,
   "metadata": {},
   "outputs": [],
   "source": [
    "w = []\n",
    "for i in range(1112):\n",
    "    w.append(np.dot(z[i], test_changes[i]))"
   ]
  },
  {
   "cell_type": "code",
   "execution_count": null,
   "metadata": {},
   "outputs": [],
   "source": [
    "w"
   ]
  },
  {
   "cell_type": "code",
   "execution_count": null,
   "metadata": {},
   "outputs": [],
   "source": [
    "import matplotlib.pyplot as plt\n",
    "\n",
    "plt.plot(range(50), w[400:450])"
   ]
  },
  {
   "cell_type": "code",
   "execution_count": null,
   "metadata": {},
   "outputs": [],
   "source": []
  },
  {
   "cell_type": "code",
   "execution_count": null,
   "metadata": {},
   "outputs": [],
   "source": []
  },
  {
   "cell_type": "code",
   "execution_count": null,
   "metadata": {},
   "outputs": [],
   "source": []
  },
  {
   "cell_type": "code",
   "execution_count": null,
   "metadata": {},
   "outputs": [],
   "source": []
  }
 ],
 "metadata": {
  "kernelspec": {
   "display_name": "Python 3",
   "language": "python",
   "name": "python3"
  },
  "language_info": {
   "codemirror_mode": {
    "name": "ipython",
    "version": 3
   },
   "file_extension": ".py",
   "mimetype": "text/x-python",
   "name": "python",
   "nbconvert_exporter": "python",
   "pygments_lexer": "ipython3",
   "version": "3.8.5"
  }
 },
 "nbformat": 4,
 "nbformat_minor": 1
}
